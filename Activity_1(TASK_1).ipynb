{
  "nbformat": 4,
  "nbformat_minor": 0,
  "metadata": {
    "colab": {
      "provenance": []
    },
    "kernelspec": {
      "name": "python3",
      "display_name": "Python 3"
    },
    "language_info": {
      "name": "python"
    }
  },
  "cells": [
    {
      "cell_type": "code",
      "execution_count": 8,
      "metadata": {
        "colab": {
          "base_uri": "https://localhost:8080/"
        },
        "id": "UMwtUh1Jc5ch",
        "outputId": "bb1d855f-b2c0-4bab-eacb-db49780821dd"
      },
      "outputs": [
        {
          "output_type": "stream",
          "name": "stdout",
          "text": [
            "Favorite Websites Menu:\n",
            "1. elmenus\n",
            "2. YouTube\n",
            "3. GitHub\n",
            "4. adidas\n",
            "5. spectra\n",
            "\n",
            "Enter the number of the website to open: 3\n",
            "Opening https://github.com/MohamedELHalmoushy/NTI-IOT-TASKS/blob/main/Activity_2_Mohamed_Ayman_Fathy_session!_Nti_20_7_2025.ipynb ...\n"
          ]
        }
      ],
      "source": [
        "import webbrowser\n",
        "\n",
        "Dictionary = {\n",
        "    1: (\"elmenus\", \"https://www.elmenus.com/\"),\n",
        "    2: (\"YouTube\", \"https://www.youtube.com\"),\n",
        "    3: (\"GitHub\", \"https://github.com/MohamedELHalmoushy/NTI-IOT-TASKS/blob/main/Activity_2_Mohamed_Ayman_Fathy_session!_Nti_20_7_2025.ipynb\"),\n",
        "    4: (\"adidas\", \"https://www.adidas.com.eg/en/men-shoes-sale\"),\n",
        "    5: (\"spectra\", \"https://spectrarestaurant.com/\")\n",
        "}\n",
        "\n",
        "def open_site(url):\n",
        "    webbrowser.open(url)\n",
        "\n",
        "print(\"Favorite Websites Menu:\")\n",
        "for num, (name, _) in Dictionary.items():\n",
        "    print(f\"{num}. {name}\")\n",
        "\n",
        "choice = int(input(\"\\nEnter the number of the website to open: \"))\n",
        "if choice in Dictionary:\n",
        "  _, url = Dictionary[choice]\n",
        "  open_site(url)\n",
        "  print(f\"Opening {url} ...\")\n",
        "else:\n",
        "  print(\"Invalid choice.\")\n",
        "  print(\"Please enter a valid number.\")\n"
      ]
    },
    {
      "cell_type": "code",
      "source": [],
      "metadata": {
        "id": "MgCmvWl1oBB5"
      },
      "execution_count": null,
      "outputs": []
    }
  ]
}