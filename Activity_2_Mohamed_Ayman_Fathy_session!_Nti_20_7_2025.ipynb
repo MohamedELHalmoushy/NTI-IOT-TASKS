{
  "nbformat": 4,
  "nbformat_minor": 0,
  "metadata": {
    "colab": {
      "provenance": []
    },
    "kernelspec": {
      "name": "python3",
      "display_name": "Python 3"
    },
    "language_info": {
      "name": "python"
    }
  },
  "cells": [
    {
      "cell_type": "code",
      "source": [
        "number_of_students = int(input(\"number of students: \"))\n",
        "grades_dictionary = {}\n",
        "for _ in range(number_of_students):\n",
        "    name = input(\"\\n Enter student name: \")\n",
        "    grade = float(input(f\"\\nEnter grade for {name}: \"))\n",
        "    grades_dictionary[name] = grade\n",
        "\n",
        "print(\"\\n All Students and Their Grades:\")\n",
        "for name, grade in grades_dictionary.items():\n",
        "    print(f\"{name}: {grade}\")\n",
        "\n",
        "\n",
        "highest_student = max(grades_dictionary, key=grades_dictionary.get)\n",
        "print(f\"\\n Highest Grade: {grades_dictionary[highest_student]} by {highest_student}\")\n",
        "\n",
        "\n",
        "average = sum(grades_dictionary.values()) / number_of_students\n",
        "print(f\"Average Grade: {average}\")\n",
        "\n",
        "\n",
        "print(\"\\n Students who failed (grade < 50):\")\n",
        "for name, grade in grades_dictionary.items():\n",
        "    if grade < 50:\n",
        "        print(f\"failed students   :  {name}\",f\"\\n                     Grade = {grade}\")\n",
        "####################################################################################################\n",
        "############                           الاسم : محمد ايمن فتحي عبد الغني السيد  ###################\n",
        "####################################################################################################"
      ],
      "metadata": {
        "colab": {
          "base_uri": "https://localhost:8080/"
        },
        "id": "mPZuNMmYWzqu",
        "outputId": "c77b49ee-b764-424d-acbf-0897cbcbee28"
      },
      "execution_count": null,
      "outputs": [
        {
          "output_type": "stream",
          "name": "stdout",
          "text": [
            "number of students: 4\n",
            "\n",
            " Enter student name: omar\n",
            "\n",
            "Enter grade for omar: 80\n",
            "\n",
            " Enter student name: mohamed\n",
            "\n",
            "Enter grade for mohamed: 90\n",
            "\n",
            " Enter student name: hossam\n",
            "\n",
            "Enter grade for hossam: 10\n",
            "\n",
            " Enter student name: amr\n",
            "\n",
            "Enter grade for amr: 50\n",
            "\n",
            " All Students and Their Grades:\n",
            "omar: 80.0\n",
            "mohamed: 90.0\n",
            "hossam: 10.0\n",
            "amr: 50.0\n",
            "\n",
            " Highest Grade: 90.0 by mohamed\n",
            "Average Grade: 57.5\n",
            "\n",
            " Students who failed (grade < 50):\n",
            "failed students   :  hossam \n",
            "                     Grade = 10.0\n"
          ]
        }
      ]
    },
    {
      "cell_type": "markdown",
      "source": [
        "# ***محمد ايمن فتحي عبد الغني السيد***"
      ],
      "metadata": {
        "id": "XO1c6VQeZreh"
      }
    },
    {
      "cell_type": "code",
      "source": [],
      "metadata": {
        "id": "WZI0BY_zXAL9"
      },
      "execution_count": null,
      "outputs": []
    }
  ]
}
